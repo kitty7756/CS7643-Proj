{
 "cells": [
  {
   "cell_type": "code",
   "execution_count": 1,
   "id": "30a5ea3a",
   "metadata": {},
   "outputs": [],
   "source": [
    "from collections import OrderedDict\n",
    "\n",
    "from sklearn.model_selection import train_test_split\n",
    "from sklearn.metrics import accuracy_score\n",
    "\n",
    "import pandas as pd\n",
    "import numpy as np\n",
    "\n",
    "import torch\n",
    "import torch.nn as nn\n",
    "import torch.nn.functional as F"
   ]
  },
  {
   "cell_type": "code",
   "execution_count": 2,
   "id": "daca0ff5",
   "metadata": {},
   "outputs": [],
   "source": [
    "categories = ['flower', 'apple', 'baseball', 'basketball', 'bird', 'book', 'bus', 'car', 'cat', 'dog']\n",
    "label_dict = {0:'flower', 1:'apple', 2:'baseball', 3:'basketball', 4:'bird',\n",
    "                      5:'book',6:'bus', 7:'car', 8:'cat', 9:'dog'}\n",
    "# Data Hyperparameters\n",
    "test_set_split = 0.2\n",
    "max_items_per_class = 5000\n",
    "verbose = True\n",
    "IMAGE_SIZE = 28"
   ]
  },
  {
   "cell_type": "markdown",
   "id": "6f2bf77b",
   "metadata": {},
   "source": [
    "### Data Download"
   ]
  },
  {
   "cell_type": "code",
   "execution_count": 4,
   "id": "b75be688",
   "metadata": {},
   "outputs": [],
   "source": [
    "import urllib.request\n",
    "is_download = False\n",
    "\n",
    "if is_download:\n",
    "    base = 'https://storage.googleapis.com/quickdraw_dataset/full/numpy_bitmap/'\n",
    "    for idx, category in label_dict.items():\n",
    "        cls_url = category.replace('_', '%20')\n",
    "        path = base + cls_url+'.npy'\n",
    "\n",
    "        if verbose:\n",
    "            print(path)\n",
    "\n",
    "        urllib.request.urlretrieve(path, raw_data_path + '/' + category +'.npy')"
   ]
  },
  {
   "cell_type": "markdown",
   "id": "22296225",
   "metadata": {},
   "source": [
    "### Data Import and Preprocessing"
   ]
  },
  {
   "cell_type": "code",
   "execution_count": 3,
   "id": "ff435347",
   "metadata": {},
   "outputs": [
    {
     "name": "stdout",
     "output_type": "stream",
     "text": [
      "0 flower\n",
      "1 apple\n",
      "2 baseball\n",
      "3 basketball\n",
      "4 bird\n",
      "5 book\n",
      "6 bus\n",
      "7 car\n",
      "8 cat\n",
      "9 dog\n"
     ]
    }
   ],
   "source": [
    "raw_data_path = '../data/raw_data'\n",
    "is_write = False\n",
    "\n",
    "data = pd.DataFrame()\n",
    "\n",
    "for idx, category in label_dict.items():\n",
    "    if verbose:\n",
    "        print (idx, category)\n",
    "        \n",
    "    file = raw_data_path + '/'+ category + '.npy'\n",
    "    \n",
    "    category_data = np.load(file)\n",
    "    category_data = category_data[0:max_items_per_class, :]\n",
    "    category_data = pd.DataFrame(category_data)\n",
    "    category_data['label'] = idx\n",
    "    \n",
    "    data = pd.concat([data, category_data], axis=0, ignore_index=True)\n",
    "\n",
    "data = data.loc[np.random.permutation(data.shape[0]), :]\n",
    "\n",
    "if is_write:\n",
    "    data.to_csv(raw_data_path + '/cnn_data.csv')"
   ]
  },
  {
   "cell_type": "code",
   "execution_count": 4,
   "id": "c8b03c42",
   "metadata": {},
   "outputs": [],
   "source": [
    "# split data\n",
    "X_train, X_test, y_train, y_test = train_test_split(\n",
    "    data.iloc[:, 0:-1], data.iloc[:, -1], \n",
    "    test_size=test_set_split, random_state=0)\n",
    "\n",
    "X_train = torch.from_numpy(np.array(X_train)).float()\n",
    "X_test = torch.from_numpy(np.array(X_test)).float()\n",
    "y_train = torch.from_numpy(np.array(y_train)).long()\n",
    "y_test = torch.from_numpy(np.array(y_test)).long()"
   ]
  },
  {
   "cell_type": "code",
   "execution_count": 5,
   "id": "657156a7",
   "metadata": {},
   "outputs": [
    {
     "data": {
      "text/plain": [
       "torch.Size([40000, 784])"
      ]
     },
     "execution_count": 5,
     "metadata": {},
     "output_type": "execute_result"
    }
   ],
   "source": [
    "X_train.shape"
   ]
  },
  {
   "cell_type": "markdown",
   "id": "af064230",
   "metadata": {},
   "source": [
    "### Visualize"
   ]
  },
  {
   "cell_type": "code",
   "execution_count": 6,
   "id": "9da4771b",
   "metadata": {},
   "outputs": [
    {
     "name": "stdout",
     "output_type": "stream",
     "text": [
      "cat\n"
     ]
    },
    {
     "data": {
      "image/png": "[encoded data removed]",
      "text/plain": [
       "<Figure size 432x288 with 1 Axes>"
      ]
     },
     "metadata": {
      "needs_background": "light"
     },
     "output_type": "display_data"
    }
   ],
   "source": [
    "import matplotlib.pyplot as plt\n",
    "from random import randint\n",
    "%matplotlib inline  \n",
    "idx = randint(0, len(X_train))\n",
    "plt.imshow(X_train[idx].reshape(IMAGE_SIZE,IMAGE_SIZE)) \n",
    "print (label_dict[int(y_train[idx])])"
   ]
  },
  {
   "cell_type": "code",
   "execution_count": 6,
   "id": "00c3447f",
   "metadata": {},
   "outputs": [],
   "source": [
    "# Reshape and normalize\n",
    "def _preprocess_X(input_data):\n",
    "    input_data = input_data.reshape(input_data.shape[0], IMAGE_SIZE, IMAGE_SIZE, 1)\n",
    "    input_data = input_data.permute((0, 3, 1, 2))\n",
    "    output = input_data / 255.\n",
    "    return output\n",
    "\n",
    "X_train = _preprocess_X(X_train)\n",
    "X_test = _preprocess_X(X_test)\n",
    "\n",
    "# Convert class vectors to class matrices\n",
    "# num_classes = len(label_dict)\n",
    "# y_train = F.one_hot(y_train, num_classes=num_classes)\n",
    "# y_test = F.one_hot(y_test, num_classes=num_classes)"
   ]
  },
  {
   "cell_type": "markdown",
   "id": "31cc25f7",
   "metadata": {},
   "source": [
    "### CNN\n",
    "\n",
    "#### Check training and evaluation functions\n",
    "#### Tune params"
   ]
  },
  {
   "cell_type": "code",
   "execution_count": 7,
   "id": "428b7655",
   "metadata": {},
   "outputs": [],
   "source": [
    "# Model Hyperparameters\n",
    "# input_size = 784\n",
    "# hidden_sizes = [128, 100, 64]\n",
    "output_size = 10\n",
    "\n",
    "dropout = 0.0\n",
    "weight_decay = 0.0\n",
    "n_chunks = 500\n",
    "learning_rate = 0.1\n",
    "optimizer = 'SGD'"
   ]
  },
  {
   "cell_type": "code",
   "execution_count": 40,
   "id": "1ecc8359",
   "metadata": {},
   "outputs": [
    {
     "data": {
      "text/plain": [
       "1650894574.6641617"
      ]
     },
     "execution_count": 40,
     "metadata": {},
     "output_type": "execute_result"
    }
   ],
   "source": [
    "import time\n",
    "time.time()"
   ]
  },
  {
   "cell_type": "code",
   "execution_count": 41,
   "id": "86a66b5b",
   "metadata": {},
   "outputs": [],
   "source": [
    "def train(model, X_train, y_train, epochs = 10, n_chunks = 1000, learning_rate = 0.003, \n",
    "          weight_decay = 0, optimizer = 'SGD'):\n",
    "    \n",
    "    print(\"Training model with epochs = {epochs}, learning rate = {lr}\\n\".format(epochs = epochs, lr = learning_rate))\n",
    "    criterion = nn.CrossEntropyLoss()\n",
    "    \n",
    "    if optimizer == 'SGD':\n",
    "        optimizer = torch.optim.SGD(model.parameters(), lr=learning_rate, weight_decay=weight_decay)\n",
    "    elif optimizer ==  'ADAM':\n",
    "        optimizer = torch.optim.Adam(model.parameters(), lr=learning_rate, weight_decay=weight_decay)\n",
    "    else:\n",
    "        print (\"ERROR: optimizer undefined\")\n",
    "    \n",
    "    losses = []\n",
    "    res_train = []\n",
    "    res_test = []\n",
    "    \n",
    "    res_time = [] # TODO2\n",
    "    \n",
    "    for epoch in range(epochs):\n",
    "        print (epoch)\n",
    "        start_time = time.time() # TODO2\n",
    "        running_loss = 0\n",
    "        images = torch.chunk(X_train, n_chunks)\n",
    "        labels = torch.chunk(y_train, n_chunks)\n",
    "\n",
    "        for i in range(len(images)):\n",
    "            if (i%50 == 0):\n",
    "                print (\"processing \", i)\n",
    "            optimizer.zero_grad()\n",
    "            output = model.forward(images[i])\n",
    "            loss = criterion(output, labels[i].squeeze())\n",
    "            loss.backward()\n",
    "            optimizer.step()\n",
    "\n",
    "            running_loss += loss.item()\n",
    "    \n",
    "        losses.append(running_loss)\n",
    "        print(\"Epoch: {}/{}... \".format(epoch + 1, epochs), \"Loss: {:.4f}\".format(running_loss))\n",
    "        \n",
    "        accuracy_train, accuracy_test = evaluate_model(model, X_train, y_train, X_test, y_test, n_samples_tested=10000000)\n",
    "        res_train.append(accuracy_train)\n",
    "        res_test.append(accuracy_test)\n",
    "        print (\"accuracy\", accuracy_train, accuracy_test)\n",
    "        \n",
    "        time_taken = time.time() - start_time ##TODO2\n",
    "        res_time.append(time_taken)##TODO2\n",
    "    \n",
    "    return losses, res_train, res_test, res_time##TODO2\n",
    "\n",
    "def get_prediction_probability_distribution(model, input_data):\n",
    "    with torch.no_grad():\n",
    "        logits = model.forward(input_data)\n",
    "    return torch.nn.functional.softmax(logits, dim=1)\n",
    "\n",
    "def get_labels(model, input_data):\n",
    "    probability_distribution = get_prediction_probability_distribution(model, input_data)\n",
    "    pred_labels = torch.argmax(probability_distribution, axis=1, keepdims=True)\n",
    "    return pred_labels\n",
    "\n",
    "def evaluate_model(model, X_train, y_train, X_test, y_test, n_samples_tested = 5000):\n",
    "    train_pred_labels = get_labels(model, X_train[:n_samples_tested])\n",
    "    test_pred_labels = get_labels(model, X_test[:n_samples_tested])\n",
    "\n",
    "    accuracy_train = accuracy_score(y_train[:n_samples_tested], train_pred_labels)\n",
    "    accuracy_test = accuracy_score(y_test[:n_samples_tested], test_pred_labels)\n",
    "\n",
    "    print(\"Accuracy score for train set is {} \\n\".format(accuracy_train))\n",
    "    print(\"Accuracy score for test set is {} \\n\".format(accuracy_test))\n",
    "\n",
    "    return accuracy_train, accuracy_test"
   ]
  },
  {
   "cell_type": "code",
   "execution_count": 43,
   "id": "4301858d",
   "metadata": {},
   "outputs": [],
   "source": [
    "model = nn.Sequential(OrderedDict([\n",
    "          ('conv1', nn.Conv2d(1, 16, kernel_size=3, stride=1, padding=0)),\n",
    "          ('relu1', nn.ReLU()),\n",
    "          ('conv2', nn.Conv2d(16, 16, kernel_size=3, stride=1, padding=0)),\n",
    "          ('relu2', nn.ReLU()),\n",
    "          ('maxpool1', nn.MaxPool2d(2, stride=None)),\n",
    "    \n",
    "          ('conv3', nn.Conv2d(16, 32, kernel_size=3, stride=1, padding=0)),\n",
    "          ('relu3', nn.ReLU()),\n",
    "          ('conv4', nn.Conv2d(32, 32, kernel_size=3, stride=1, padding=0)),\n",
    "          ('relu4', nn.ReLU()),\n",
    "          ('maxpool2', nn.MaxPool2d(2, stride=None)),\n",
    "    \n",
    "          ('conv5', nn.Conv2d(32, 64, kernel_size=2, stride=1, padding=0)),\n",
    "          ('relu5', nn.ReLU()),\n",
    "          ('conv6', nn.Conv2d(64, 64, kernel_size=2, stride=1, padding=0)),\n",
    "          ('relu6', nn.ReLU()),\n",
    "          ('maxpool2', nn.MaxPool2d(2, stride=None)),\n",
    "    \n",
    "          ('dropout', nn.Dropout(0.1)),\n",
    "          ('flatten', nn.Flatten()),\n",
    "          ('fc1', nn.Linear(256, 512)),\n",
    "          ('tanh', nn.Tanh()),\n",
    "          ('fc2', nn.Linear(512, output_size)),\n",
    "          ('relu7', nn.ReLU()), \n",
    "        ]))"
   ]
  },
  {
   "cell_type": "code",
   "execution_count": 44,
   "id": "39e5ced6",
   "metadata": {},
   "outputs": [
    {
     "name": "stdout",
     "output_type": "stream",
     "text": [
      "Training model with epochs = 10, learning rate = 0.1\n",
      "\n",
      "0\n",
      "processing  0\n",
      "processing  50\n",
      "processing  100\n",
      "processing  150\n",
      "processing  200\n",
      "processing  250\n",
      "processing  300\n",
      "processing  350\n",
      "processing  400\n",
      "processing  450\n",
      "Epoch: 1/10...  Loss: 1151.3200\n"
     ]
    },
    {
     "ename": "KeyboardInterrupt",
     "evalue": "",
     "output_type": "error",
     "traceback": [
      "\u001b[1;31m---------------------------------------------------------------------------\u001b[0m",
      "\u001b[1;31mKeyboardInterrupt\u001b[0m                         Traceback (most recent call last)",
      "\u001b[1;32m~\\AppData\\Local\\Temp/ipykernel_4960/3078071555.py\u001b[0m in \u001b[0;36m<module>\u001b[1;34m\u001b[0m\n\u001b[1;32m----> 1\u001b[1;33m train(model, X_train, y_train,\n\u001b[0m\u001b[0;32m      2\u001b[0m       \u001b[0mlearning_rate\u001b[0m \u001b[1;33m=\u001b[0m \u001b[0mlearning_rate\u001b[0m\u001b[1;33m,\u001b[0m \u001b[0mweight_decay\u001b[0m \u001b[1;33m=\u001b[0m \u001b[0mweight_decay\u001b[0m\u001b[1;33m,\u001b[0m\u001b[1;33m\u001b[0m\u001b[1;33m\u001b[0m\u001b[0m\n\u001b[0;32m      3\u001b[0m       n_chunks = n_chunks, optimizer = optimizer)\n",
      "\u001b[1;32m~\\AppData\\Local\\Temp/ipykernel_4960/4123473009.py\u001b[0m in \u001b[0;36mtrain\u001b[1;34m(model, X_train, y_train, epochs, n_chunks, learning_rate, weight_decay, optimizer)\u001b[0m\n\u001b[0;32m     39\u001b[0m         \u001b[0mprint\u001b[0m\u001b[1;33m(\u001b[0m\u001b[1;34m\"Epoch: {}/{}... \"\u001b[0m\u001b[1;33m.\u001b[0m\u001b[0mformat\u001b[0m\u001b[1;33m(\u001b[0m\u001b[0mepoch\u001b[0m \u001b[1;33m+\u001b[0m \u001b[1;36m1\u001b[0m\u001b[1;33m,\u001b[0m \u001b[0mepochs\u001b[0m\u001b[1;33m)\u001b[0m\u001b[1;33m,\u001b[0m \u001b[1;34m\"Loss: {:.4f}\"\u001b[0m\u001b[1;33m.\u001b[0m\u001b[0mformat\u001b[0m\u001b[1;33m(\u001b[0m\u001b[0mrunning_loss\u001b[0m\u001b[1;33m)\u001b[0m\u001b[1;33m)\u001b[0m\u001b[1;33m\u001b[0m\u001b[1;33m\u001b[0m\u001b[0m\n\u001b[0;32m     40\u001b[0m \u001b[1;33m\u001b[0m\u001b[0m\n\u001b[1;32m---> 41\u001b[1;33m         \u001b[0maccuracy_train\u001b[0m\u001b[1;33m,\u001b[0m \u001b[0maccuracy_test\u001b[0m \u001b[1;33m=\u001b[0m \u001b[0mevaluate_model\u001b[0m\u001b[1;33m(\u001b[0m\u001b[0mmodel\u001b[0m\u001b[1;33m,\u001b[0m \u001b[0mX_train\u001b[0m\u001b[1;33m,\u001b[0m \u001b[0my_train\u001b[0m\u001b[1;33m,\u001b[0m \u001b[0mX_test\u001b[0m\u001b[1;33m,\u001b[0m \u001b[0my_test\u001b[0m\u001b[1;33m,\u001b[0m \u001b[0mn_samples_tested\u001b[0m\u001b[1;33m=\u001b[0m\u001b[1;36m10000000\u001b[0m\u001b[1;33m)\u001b[0m\u001b[1;33m\u001b[0m\u001b[1;33m\u001b[0m\u001b[0m\n\u001b[0m\u001b[0;32m     42\u001b[0m         \u001b[0mres_train\u001b[0m\u001b[1;33m.\u001b[0m\u001b[0mappend\u001b[0m\u001b[1;33m(\u001b[0m\u001b[0maccuracy_train\u001b[0m\u001b[1;33m)\u001b[0m\u001b[1;33m\u001b[0m\u001b[1;33m\u001b[0m\u001b[0m\n\u001b[0;32m     43\u001b[0m         \u001b[0mres_test\u001b[0m\u001b[1;33m.\u001b[0m\u001b[0mappend\u001b[0m\u001b[1;33m(\u001b[0m\u001b[0maccuracy_test\u001b[0m\u001b[1;33m)\u001b[0m\u001b[1;33m\u001b[0m\u001b[1;33m\u001b[0m\u001b[0m\n",
      "\u001b[1;32m~\\AppData\\Local\\Temp/ipykernel_4960/4123473009.py\u001b[0m in \u001b[0;36mevaluate_model\u001b[1;34m(model, X_train, y_train, X_test, y_test, n_samples_tested)\u001b[0m\n\u001b[0;32m     60\u001b[0m \u001b[1;33m\u001b[0m\u001b[0m\n\u001b[0;32m     61\u001b[0m \u001b[1;32mdef\u001b[0m \u001b[0mevaluate_model\u001b[0m\u001b[1;33m(\u001b[0m\u001b[0mmodel\u001b[0m\u001b[1;33m,\u001b[0m \u001b[0mX_train\u001b[0m\u001b[1;33m,\u001b[0m \u001b[0my_train\u001b[0m\u001b[1;33m,\u001b[0m \u001b[0mX_test\u001b[0m\u001b[1;33m,\u001b[0m \u001b[0my_test\u001b[0m\u001b[1;33m,\u001b[0m \u001b[0mn_samples_tested\u001b[0m \u001b[1;33m=\u001b[0m \u001b[1;36m5000\u001b[0m\u001b[1;33m)\u001b[0m\u001b[1;33m:\u001b[0m\u001b[1;33m\u001b[0m\u001b[1;33m\u001b[0m\u001b[0m\n\u001b[1;32m---> 62\u001b[1;33m     \u001b[0mtrain_pred_labels\u001b[0m \u001b[1;33m=\u001b[0m \u001b[0mget_labels\u001b[0m\u001b[1;33m(\u001b[0m\u001b[0mmodel\u001b[0m\u001b[1;33m,\u001b[0m \u001b[0mX_train\u001b[0m\u001b[1;33m[\u001b[0m\u001b[1;33m:\u001b[0m\u001b[0mn_samples_tested\u001b[0m\u001b[1;33m]\u001b[0m\u001b[1;33m)\u001b[0m\u001b[1;33m\u001b[0m\u001b[1;33m\u001b[0m\u001b[0m\n\u001b[0m\u001b[0;32m     63\u001b[0m     \u001b[0mtest_pred_labels\u001b[0m \u001b[1;33m=\u001b[0m \u001b[0mget_labels\u001b[0m\u001b[1;33m(\u001b[0m\u001b[0mmodel\u001b[0m\u001b[1;33m,\u001b[0m \u001b[0mX_test\u001b[0m\u001b[1;33m[\u001b[0m\u001b[1;33m:\u001b[0m\u001b[0mn_samples_tested\u001b[0m\u001b[1;33m]\u001b[0m\u001b[1;33m)\u001b[0m\u001b[1;33m\u001b[0m\u001b[1;33m\u001b[0m\u001b[0m\n\u001b[0;32m     64\u001b[0m \u001b[1;33m\u001b[0m\u001b[0m\n",
      "\u001b[1;32m~\\AppData\\Local\\Temp/ipykernel_4960/4123473009.py\u001b[0m in \u001b[0;36mget_labels\u001b[1;34m(model, input_data)\u001b[0m\n\u001b[0;32m     55\u001b[0m \u001b[1;33m\u001b[0m\u001b[0m\n\u001b[0;32m     56\u001b[0m \u001b[1;32mdef\u001b[0m \u001b[0mget_labels\u001b[0m\u001b[1;33m(\u001b[0m\u001b[0mmodel\u001b[0m\u001b[1;33m,\u001b[0m \u001b[0minput_data\u001b[0m\u001b[1;33m)\u001b[0m\u001b[1;33m:\u001b[0m\u001b[1;33m\u001b[0m\u001b[1;33m\u001b[0m\u001b[0m\n\u001b[1;32m---> 57\u001b[1;33m     \u001b[0mprobability_distribution\u001b[0m \u001b[1;33m=\u001b[0m \u001b[0mget_prediction_probability_distribution\u001b[0m\u001b[1;33m(\u001b[0m\u001b[0mmodel\u001b[0m\u001b[1;33m,\u001b[0m \u001b[0minput_data\u001b[0m\u001b[1;33m)\u001b[0m\u001b[1;33m\u001b[0m\u001b[1;33m\u001b[0m\u001b[0m\n\u001b[0m\u001b[0;32m     58\u001b[0m     \u001b[0mpred_labels\u001b[0m \u001b[1;33m=\u001b[0m \u001b[0mtorch\u001b[0m\u001b[1;33m.\u001b[0m\u001b[0margmax\u001b[0m\u001b[1;33m(\u001b[0m\u001b[0mprobability_distribution\u001b[0m\u001b[1;33m,\u001b[0m \u001b[0maxis\u001b[0m\u001b[1;33m=\u001b[0m\u001b[1;36m1\u001b[0m\u001b[1;33m,\u001b[0m \u001b[0mkeepdims\u001b[0m\u001b[1;33m=\u001b[0m\u001b[1;32mTrue\u001b[0m\u001b[1;33m)\u001b[0m\u001b[1;33m\u001b[0m\u001b[1;33m\u001b[0m\u001b[0m\n\u001b[0;32m     59\u001b[0m     \u001b[1;32mreturn\u001b[0m \u001b[0mpred_labels\u001b[0m\u001b[1;33m\u001b[0m\u001b[1;33m\u001b[0m\u001b[0m\n",
      "\u001b[1;32m~\\AppData\\Local\\Temp/ipykernel_4960/4123473009.py\u001b[0m in \u001b[0;36mget_prediction_probability_distribution\u001b[1;34m(model, input_data)\u001b[0m\n\u001b[0;32m     51\u001b[0m \u001b[1;32mdef\u001b[0m \u001b[0mget_prediction_probability_distribution\u001b[0m\u001b[1;33m(\u001b[0m\u001b[0mmodel\u001b[0m\u001b[1;33m,\u001b[0m \u001b[0minput_data\u001b[0m\u001b[1;33m)\u001b[0m\u001b[1;33m:\u001b[0m\u001b[1;33m\u001b[0m\u001b[1;33m\u001b[0m\u001b[0m\n\u001b[0;32m     52\u001b[0m     \u001b[1;32mwith\u001b[0m \u001b[0mtorch\u001b[0m\u001b[1;33m.\u001b[0m\u001b[0mno_grad\u001b[0m\u001b[1;33m(\u001b[0m\u001b[1;33m)\u001b[0m\u001b[1;33m:\u001b[0m\u001b[1;33m\u001b[0m\u001b[1;33m\u001b[0m\u001b[0m\n\u001b[1;32m---> 53\u001b[1;33m         \u001b[0mlogits\u001b[0m \u001b[1;33m=\u001b[0m \u001b[0mmodel\u001b[0m\u001b[1;33m.\u001b[0m\u001b[0mforward\u001b[0m\u001b[1;33m(\u001b[0m\u001b[0minput_data\u001b[0m\u001b[1;33m)\u001b[0m\u001b[1;33m\u001b[0m\u001b[1;33m\u001b[0m\u001b[0m\n\u001b[0m\u001b[0;32m     54\u001b[0m     \u001b[1;32mreturn\u001b[0m \u001b[0mtorch\u001b[0m\u001b[1;33m.\u001b[0m\u001b[0mnn\u001b[0m\u001b[1;33m.\u001b[0m\u001b[0mfunctional\u001b[0m\u001b[1;33m.\u001b[0m\u001b[0msoftmax\u001b[0m\u001b[1;33m(\u001b[0m\u001b[0mlogits\u001b[0m\u001b[1;33m,\u001b[0m \u001b[0mdim\u001b[0m\u001b[1;33m=\u001b[0m\u001b[1;36m1\u001b[0m\u001b[1;33m)\u001b[0m\u001b[1;33m\u001b[0m\u001b[1;33m\u001b[0m\u001b[0m\n\u001b[0;32m     55\u001b[0m \u001b[1;33m\u001b[0m\u001b[0m\n",
      "\u001b[1;32m~\\anaconda3\\lib\\site-packages\\torch\\nn\\modules\\container.py\u001b[0m in \u001b[0;36mforward\u001b[1;34m(self, input)\u001b[0m\n\u001b[0;32m    139\u001b[0m     \u001b[1;32mdef\u001b[0m \u001b[0mforward\u001b[0m\u001b[1;33m(\u001b[0m\u001b[0mself\u001b[0m\u001b[1;33m,\u001b[0m \u001b[0minput\u001b[0m\u001b[1;33m)\u001b[0m\u001b[1;33m:\u001b[0m\u001b[1;33m\u001b[0m\u001b[1;33m\u001b[0m\u001b[0m\n\u001b[0;32m    140\u001b[0m         \u001b[1;32mfor\u001b[0m \u001b[0mmodule\u001b[0m \u001b[1;32min\u001b[0m \u001b[0mself\u001b[0m\u001b[1;33m:\u001b[0m\u001b[1;33m\u001b[0m\u001b[1;33m\u001b[0m\u001b[0m\n\u001b[1;32m--> 141\u001b[1;33m             \u001b[0minput\u001b[0m \u001b[1;33m=\u001b[0m \u001b[0mmodule\u001b[0m\u001b[1;33m(\u001b[0m\u001b[0minput\u001b[0m\u001b[1;33m)\u001b[0m\u001b[1;33m\u001b[0m\u001b[1;33m\u001b[0m\u001b[0m\n\u001b[0m\u001b[0;32m    142\u001b[0m         \u001b[1;32mreturn\u001b[0m \u001b[0minput\u001b[0m\u001b[1;33m\u001b[0m\u001b[1;33m\u001b[0m\u001b[0m\n\u001b[0;32m    143\u001b[0m \u001b[1;33m\u001b[0m\u001b[0m\n",
      "\u001b[1;32m~\\anaconda3\\lib\\site-packages\\torch\\nn\\modules\\module.py\u001b[0m in \u001b[0;36m_call_impl\u001b[1;34m(self, *input, **kwargs)\u001b[0m\n\u001b[0;32m   1108\u001b[0m         if not (self._backward_hooks or self._forward_hooks or self._forward_pre_hooks or _global_backward_hooks\n\u001b[0;32m   1109\u001b[0m                 or _global_forward_hooks or _global_forward_pre_hooks):\n\u001b[1;32m-> 1110\u001b[1;33m             \u001b[1;32mreturn\u001b[0m \u001b[0mforward_call\u001b[0m\u001b[1;33m(\u001b[0m\u001b[1;33m*\u001b[0m\u001b[0minput\u001b[0m\u001b[1;33m,\u001b[0m \u001b[1;33m**\u001b[0m\u001b[0mkwargs\u001b[0m\u001b[1;33m)\u001b[0m\u001b[1;33m\u001b[0m\u001b[1;33m\u001b[0m\u001b[0m\n\u001b[0m\u001b[0;32m   1111\u001b[0m         \u001b[1;31m# Do not call functions when jit is used\u001b[0m\u001b[1;33m\u001b[0m\u001b[1;33m\u001b[0m\u001b[0m\n\u001b[0;32m   1112\u001b[0m         \u001b[0mfull_backward_hooks\u001b[0m\u001b[1;33m,\u001b[0m \u001b[0mnon_full_backward_hooks\u001b[0m \u001b[1;33m=\u001b[0m \u001b[1;33m[\u001b[0m\u001b[1;33m]\u001b[0m\u001b[1;33m,\u001b[0m \u001b[1;33m[\u001b[0m\u001b[1;33m]\u001b[0m\u001b[1;33m\u001b[0m\u001b[1;33m\u001b[0m\u001b[0m\n",
      "\u001b[1;32m~\\anaconda3\\lib\\site-packages\\torch\\nn\\modules\\conv.py\u001b[0m in \u001b[0;36mforward\u001b[1;34m(self, input)\u001b[0m\n\u001b[0;32m    445\u001b[0m \u001b[1;33m\u001b[0m\u001b[0m\n\u001b[0;32m    446\u001b[0m     \u001b[1;32mdef\u001b[0m \u001b[0mforward\u001b[0m\u001b[1;33m(\u001b[0m\u001b[0mself\u001b[0m\u001b[1;33m,\u001b[0m \u001b[0minput\u001b[0m\u001b[1;33m:\u001b[0m \u001b[0mTensor\u001b[0m\u001b[1;33m)\u001b[0m \u001b[1;33m->\u001b[0m \u001b[0mTensor\u001b[0m\u001b[1;33m:\u001b[0m\u001b[1;33m\u001b[0m\u001b[1;33m\u001b[0m\u001b[0m\n\u001b[1;32m--> 447\u001b[1;33m         \u001b[1;32mreturn\u001b[0m \u001b[0mself\u001b[0m\u001b[1;33m.\u001b[0m\u001b[0m_conv_forward\u001b[0m\u001b[1;33m(\u001b[0m\u001b[0minput\u001b[0m\u001b[1;33m,\u001b[0m \u001b[0mself\u001b[0m\u001b[1;33m.\u001b[0m\u001b[0mweight\u001b[0m\u001b[1;33m,\u001b[0m \u001b[0mself\u001b[0m\u001b[1;33m.\u001b[0m\u001b[0mbias\u001b[0m\u001b[1;33m)\u001b[0m\u001b[1;33m\u001b[0m\u001b[1;33m\u001b[0m\u001b[0m\n\u001b[0m\u001b[0;32m    448\u001b[0m \u001b[1;33m\u001b[0m\u001b[0m\n\u001b[0;32m    449\u001b[0m \u001b[1;32mclass\u001b[0m \u001b[0mConv3d\u001b[0m\u001b[1;33m(\u001b[0m\u001b[0m_ConvNd\u001b[0m\u001b[1;33m)\u001b[0m\u001b[1;33m:\u001b[0m\u001b[1;33m\u001b[0m\u001b[1;33m\u001b[0m\u001b[0m\n",
      "\u001b[1;32m~\\anaconda3\\lib\\site-packages\\torch\\nn\\modules\\conv.py\u001b[0m in \u001b[0;36m_conv_forward\u001b[1;34m(self, input, weight, bias)\u001b[0m\n\u001b[0;32m    441\u001b[0m                             \u001b[0mweight\u001b[0m\u001b[1;33m,\u001b[0m \u001b[0mbias\u001b[0m\u001b[1;33m,\u001b[0m \u001b[0mself\u001b[0m\u001b[1;33m.\u001b[0m\u001b[0mstride\u001b[0m\u001b[1;33m,\u001b[0m\u001b[1;33m\u001b[0m\u001b[1;33m\u001b[0m\u001b[0m\n\u001b[0;32m    442\u001b[0m                             _pair(0), self.dilation, self.groups)\n\u001b[1;32m--> 443\u001b[1;33m         return F.conv2d(input, weight, bias, self.stride,\n\u001b[0m\u001b[0;32m    444\u001b[0m                         self.padding, self.dilation, self.groups)\n\u001b[0;32m    445\u001b[0m \u001b[1;33m\u001b[0m\u001b[0m\n",
      "\u001b[1;31mKeyboardInterrupt\u001b[0m: "
     ]
    }
   ],
   "source": [
    "train(model, X_train, y_train,\n",
    "      learning_rate = learning_rate, weight_decay = weight_decay,\n",
    "      n_chunks = n_chunks, optimizer = optimizer)"
   ]
  },
  {
   "cell_type": "code",
   "execution_count": null,
   "id": "e4e201c0",
   "metadata": {},
   "outputs": [],
   "source": [
    "accuracy_train, accuracy_test = evaluate_model(model, X_train, y_train, X_test, y_test, n_samples_tested = 5000)"
   ]
  },
  {
   "cell_type": "markdown",
   "id": "373fdab2",
   "metadata": {},
   "source": [
    "### Resnet\n",
    "#### Pretrained models work only for 3 channels. Retrain for 1 channel here. Investigate. "
   ]
  },
  {
   "cell_type": "code",
   "execution_count": 9,
   "id": "406461ea",
   "metadata": {},
   "outputs": [],
   "source": [
    "import torchvision.models as models\n",
    "resnet18 = models.resnet18(pretrained=True)\n",
    "# alexnet = models.alexnet(pretrained=True)\n",
    "# squeezenet = models.squeezenet1_0(pretrained=True)\n",
    "# vgg16 = models.vgg16(pretrained=True)\n",
    "# densenet = models.densenet161(pretrained=True)\n",
    "# inception = models.inception_v3(pretrained=True)\n",
    "# googlenet = models.googlenet(pretrained=True)\n",
    "# shufflenet = models.shufflenet_v2_x1_0(pretrained=True)\n",
    "# mobilenet_v2 = models.mobilenet_v2(pretrained=True)\n",
    "# mobilenet_v3_large = models.mobilenet_v3_large(pretrained=True)\n",
    "# mobilenet_v3_small = models.mobilenet_v3_small(pretrained=True)\n",
    "# resnext50_32x4d = models.resnext50_32x4d(pretrained=True)\n",
    "# wide_resnet50_2 = models.wide_resnet50_2(pretrained=True)\n",
    "# mnasnet = models.mnasnet1_0(pretrained=True)\n",
    "# efficientnet_b0 = models.efficientnet_b0(pretrained=True)\n",
    "# efficientnet_b1 = models.efficientnet_b1(pretrained=True)\n",
    "# efficientnet_b2 = models.efficientnet_b2(pretrained=True)\n",
    "# efficientnet_b3 = models.efficientnet_b3(pretrained=True)\n",
    "# efficientnet_b4 = models.efficientnet_b4(pretrained=True)\n",
    "# efficientnet_b5 = models.efficientnet_b5(pretrained=True)\n",
    "# efficientnet_b6 = models.efficientnet_b6(pretrained=True)\n",
    "# efficientnet_b7 = models.efficientnet_b7(pretrained=True)\n",
    "# regnet_y_400mf = models.regnet_y_400mf(pretrained=True)\n",
    "# regnet_y_800mf = models.regnet_y_800mf(pretrained=True)\n",
    "# regnet_y_1_6gf = models.regnet_y_1_6gf(pretrained=True)\n",
    "# regnet_y_3_2gf = models.regnet_y_3_2gf(pretrained=True)\n",
    "# regnet_y_8gf = models.regnet_y_8gf(pretrained=True)\n",
    "# regnet_y_16gf = models.regnet_y_16gf(pretrained=True)\n",
    "# regnet_y_32gf = models.regnet_y_32gf(pretrained=True)\n",
    "# regnet_x_400mf = models.regnet_x_400mf(pretrained=True)\n",
    "# regnet_x_800mf = models.regnet_x_800mf(pretrained=True)\n",
    "# regnet_x_1_6gf = models.regnet_x_1_6gf(pretrained=True)\n",
    "# regnet_x_3_2gf = models.regnet_x_3_2gf(pretrained=True)\n",
    "# regnet_x_8gf = models.regnet_x_8gf(pretrained=True)\n",
    "# regnet_x_16gf = models.regnet_x_16gf(pretrainedTrue)\n",
    "# regnet_x_32gf = models.regnet_x_32gf(pretrained=True)\n",
    "# vit_b_16 = models.vit_b_16(pretrained=True)\n",
    "# vit_b_32 = models.vit_b_32(pretrained=True)\n",
    "# vit_l_16 = models.vit_l_16(pretrained=True)\n",
    "# vit_l_32 = models.vit_l_32(pretrained=True)\n",
    "# convnext_tiny = models.convnext_tiny(pretrained=True)\n",
    "# convnext_small = models.convnext_small(pretrained=True)\n",
    "# convnext_base = models.convnext_base(pretrained=True)\n",
    "# convnext_large = models.convnext_large(pretrained=True)"
   ]
  },
  {
   "cell_type": "code",
   "execution_count": 27,
   "id": "576b5394",
   "metadata": {},
   "outputs": [],
   "source": [
    "# resnet18.state_dict().keys()"
   ]
  },
  {
   "cell_type": "code",
   "execution_count": null,
   "id": "bb133c2e",
   "metadata": {},
   "outputs": [],
   "source": []
  },
  {
   "cell_type": "code",
   "execution_count": null,
   "id": "93cb22c7",
   "metadata": {},
   "outputs": [],
   "source": []
  },
  {
   "cell_type": "code",
   "execution_count": 36,
   "id": "063fe322",
   "metadata": {},
   "outputs": [],
   "source": [
    "## TODO4\n",
    "resnet18.conv1 = nn.Conv2d(1, 64, kernel_size=7, stride=2, padding=3,bias=False)\n",
    "resnet18.fc = nn.Linear(in_features=512, out_features=10, bias=True)\n",
    "resnet18 = resnet18.eval()\n",
    "#model.train()"
   ]
  },
  {
   "cell_type": "code",
   "execution_count": 42,
   "id": "6ef5e63f",
   "metadata": {},
   "outputs": [
    {
     "name": "stdout",
     "output_type": "stream",
     "text": [
      "Training model with epochs = 10, learning rate = 0.1\n",
      "\n",
      "0\n",
      "processing  0\n"
     ]
    },
    {
     "ename": "KeyboardInterrupt",
     "evalue": "",
     "output_type": "error",
     "traceback": [
      "\u001b[1;31m---------------------------------------------------------------------------\u001b[0m",
      "\u001b[1;31mKeyboardInterrupt\u001b[0m                         Traceback (most recent call last)",
      "\u001b[1;32m~\\AppData\\Local\\Temp/ipykernel_4960/1555096157.py\u001b[0m in \u001b[0;36m<module>\u001b[1;34m\u001b[0m\n\u001b[1;32m----> 1\u001b[1;33m train(resnet18, X_train, y_train,\n\u001b[0m\u001b[0;32m      2\u001b[0m       \u001b[0mlearning_rate\u001b[0m \u001b[1;33m=\u001b[0m \u001b[0mlearning_rate\u001b[0m\u001b[1;33m,\u001b[0m \u001b[0mweight_decay\u001b[0m \u001b[1;33m=\u001b[0m \u001b[0mweight_decay\u001b[0m\u001b[1;33m,\u001b[0m\u001b[1;33m\u001b[0m\u001b[1;33m\u001b[0m\u001b[0m\n\u001b[0;32m      3\u001b[0m       n_chunks = n_chunks, optimizer=\"SGD\")\n",
      "\u001b[1;32m~\\AppData\\Local\\Temp/ipykernel_4960/4123473009.py\u001b[0m in \u001b[0;36mtrain\u001b[1;34m(model, X_train, y_train, epochs, n_chunks, learning_rate, weight_decay, optimizer)\u001b[0m\n\u001b[0;32m     31\u001b[0m             \u001b[0moutput\u001b[0m \u001b[1;33m=\u001b[0m \u001b[0mmodel\u001b[0m\u001b[1;33m.\u001b[0m\u001b[0mforward\u001b[0m\u001b[1;33m(\u001b[0m\u001b[0mimages\u001b[0m\u001b[1;33m[\u001b[0m\u001b[0mi\u001b[0m\u001b[1;33m]\u001b[0m\u001b[1;33m)\u001b[0m\u001b[1;33m\u001b[0m\u001b[1;33m\u001b[0m\u001b[0m\n\u001b[0;32m     32\u001b[0m             \u001b[0mloss\u001b[0m \u001b[1;33m=\u001b[0m \u001b[0mcriterion\u001b[0m\u001b[1;33m(\u001b[0m\u001b[0moutput\u001b[0m\u001b[1;33m,\u001b[0m \u001b[0mlabels\u001b[0m\u001b[1;33m[\u001b[0m\u001b[0mi\u001b[0m\u001b[1;33m]\u001b[0m\u001b[1;33m.\u001b[0m\u001b[0msqueeze\u001b[0m\u001b[1;33m(\u001b[0m\u001b[1;33m)\u001b[0m\u001b[1;33m)\u001b[0m\u001b[1;33m\u001b[0m\u001b[1;33m\u001b[0m\u001b[0m\n\u001b[1;32m---> 33\u001b[1;33m             \u001b[0mloss\u001b[0m\u001b[1;33m.\u001b[0m\u001b[0mbackward\u001b[0m\u001b[1;33m(\u001b[0m\u001b[1;33m)\u001b[0m\u001b[1;33m\u001b[0m\u001b[1;33m\u001b[0m\u001b[0m\n\u001b[0m\u001b[0;32m     34\u001b[0m             \u001b[0moptimizer\u001b[0m\u001b[1;33m.\u001b[0m\u001b[0mstep\u001b[0m\u001b[1;33m(\u001b[0m\u001b[1;33m)\u001b[0m\u001b[1;33m\u001b[0m\u001b[1;33m\u001b[0m\u001b[0m\n\u001b[0;32m     35\u001b[0m \u001b[1;33m\u001b[0m\u001b[0m\n",
      "\u001b[1;32m~\\anaconda3\\lib\\site-packages\\torch\\_tensor.py\u001b[0m in \u001b[0;36mbackward\u001b[1;34m(self, gradient, retain_graph, create_graph, inputs)\u001b[0m\n\u001b[0;32m    361\u001b[0m                 \u001b[0mcreate_graph\u001b[0m\u001b[1;33m=\u001b[0m\u001b[0mcreate_graph\u001b[0m\u001b[1;33m,\u001b[0m\u001b[1;33m\u001b[0m\u001b[1;33m\u001b[0m\u001b[0m\n\u001b[0;32m    362\u001b[0m                 inputs=inputs)\n\u001b[1;32m--> 363\u001b[1;33m         \u001b[0mtorch\u001b[0m\u001b[1;33m.\u001b[0m\u001b[0mautograd\u001b[0m\u001b[1;33m.\u001b[0m\u001b[0mbackward\u001b[0m\u001b[1;33m(\u001b[0m\u001b[0mself\u001b[0m\u001b[1;33m,\u001b[0m \u001b[0mgradient\u001b[0m\u001b[1;33m,\u001b[0m \u001b[0mretain_graph\u001b[0m\u001b[1;33m,\u001b[0m \u001b[0mcreate_graph\u001b[0m\u001b[1;33m,\u001b[0m \u001b[0minputs\u001b[0m\u001b[1;33m=\u001b[0m\u001b[0minputs\u001b[0m\u001b[1;33m)\u001b[0m\u001b[1;33m\u001b[0m\u001b[1;33m\u001b[0m\u001b[0m\n\u001b[0m\u001b[0;32m    364\u001b[0m \u001b[1;33m\u001b[0m\u001b[0m\n\u001b[0;32m    365\u001b[0m     \u001b[1;32mdef\u001b[0m \u001b[0mregister_hook\u001b[0m\u001b[1;33m(\u001b[0m\u001b[0mself\u001b[0m\u001b[1;33m,\u001b[0m \u001b[0mhook\u001b[0m\u001b[1;33m)\u001b[0m\u001b[1;33m:\u001b[0m\u001b[1;33m\u001b[0m\u001b[1;33m\u001b[0m\u001b[0m\n",
      "\u001b[1;32m~\\anaconda3\\lib\\site-packages\\torch\\autograd\\__init__.py\u001b[0m in \u001b[0;36mbackward\u001b[1;34m(tensors, grad_tensors, retain_graph, create_graph, grad_variables, inputs)\u001b[0m\n\u001b[0;32m    171\u001b[0m     \u001b[1;31m# some Python versions print out the first line of a multi-line function\u001b[0m\u001b[1;33m\u001b[0m\u001b[1;33m\u001b[0m\u001b[0m\n\u001b[0;32m    172\u001b[0m     \u001b[1;31m# calls in the traceback and some print out the last line\u001b[0m\u001b[1;33m\u001b[0m\u001b[1;33m\u001b[0m\u001b[0m\n\u001b[1;32m--> 173\u001b[1;33m     Variable._execution_engine.run_backward(  # Calls into the C++ engine to run the backward pass\n\u001b[0m\u001b[0;32m    174\u001b[0m         \u001b[0mtensors\u001b[0m\u001b[1;33m,\u001b[0m \u001b[0mgrad_tensors_\u001b[0m\u001b[1;33m,\u001b[0m \u001b[0mretain_graph\u001b[0m\u001b[1;33m,\u001b[0m \u001b[0mcreate_graph\u001b[0m\u001b[1;33m,\u001b[0m \u001b[0minputs\u001b[0m\u001b[1;33m,\u001b[0m\u001b[1;33m\u001b[0m\u001b[1;33m\u001b[0m\u001b[0m\n\u001b[0;32m    175\u001b[0m         allow_unreachable=True, accumulate_grad=True)  # Calls into the C++ engine to run the backward pass\n",
      "\u001b[1;31mKeyboardInterrupt\u001b[0m: "
     ]
    }
   ],
   "source": [
    "train(resnet18, X_train, y_train,\n",
    "      learning_rate = learning_rate, weight_decay = weight_decay,\n",
    "      n_chunks = n_chunks, optimizer=\"SGD\")"
   ]
  },
  {
   "cell_type": "code",
   "execution_count": 77,
   "id": "cea05da1",
   "metadata": {},
   "outputs": [
    {
     "name": "stdout",
     "output_type": "stream",
     "text": [
      "Accuracy score for train set is 0.2 \n",
      "\n",
      "Accuracy score for test set is 0.0 \n",
      "\n"
     ]
    },
    {
     "data": {
      "text/plain": [
       "(0.2, 0.0)"
      ]
     },
     "execution_count": 77,
     "metadata": {},
     "output_type": "execute_result"
    }
   ],
   "source": [
    "evaluate_model(resnet18, X_train, y_train, X_test, y_test, n_samples_tested = 5)"
   ]
  },
  {
   "cell_type": "code",
   "execution_count": 44,
   "id": "b23241d0",
   "metadata": {},
   "outputs": [],
   "source": []
  },
  {
   "cell_type": "code",
   "execution_count": 78,
   "id": "64e1f984",
   "metadata": {},
   "outputs": [],
   "source": [
    "model=resnet18\n",
    "input_data= X_train[:5]\n",
    "with torch.no_grad():\n",
    "    logits = model.forward(input_data)\n",
    "probability_distribution =  torch.nn.functional.softmax(logits, dim=1)\n",
    "N = len(probability_distribution)\n",
    "pred_labels = torch.argmax(probability_distribution, axis=1, keepdims=True)"
   ]
  },
  {
   "cell_type": "code",
   "execution_count": 79,
   "id": "70dc32af",
   "metadata": {},
   "outputs": [
    {
     "data": {
      "text/plain": [
       "0.2"
      ]
     },
     "execution_count": 79,
     "metadata": {},
     "output_type": "execute_result"
    }
   ],
   "source": [
    "accuracy_score(y_train[:5], pred_labels)"
   ]
  },
  {
   "cell_type": "code",
   "execution_count": 80,
   "id": "64e2efa5",
   "metadata": {},
   "outputs": [
    {
     "data": {
      "text/plain": [
       "tensor([1, 4, 2,  ..., 2, 2, 3])"
      ]
     },
     "execution_count": 80,
     "metadata": {},
     "output_type": "execute_result"
    }
   ],
   "source": []
  },
  {
   "cell_type": "code",
   "execution_count": null,
   "id": "8a9bec92",
   "metadata": {},
   "outputs": [],
   "source": []
  }
 ],
 "metadata": {
  "kernelspec": {
   "display_name": "Python 3 (ipykernel)",
   "language": "python",
   "name": "python3"
  },
  "language_info": {
   "codemirror_mode": {
    "name": "ipython",
    "version": 3
   },
   "file_extension": ".py",
   "mimetype": "text/x-python",
   "name": "python",
   "nbconvert_exporter": "python",
   "pygments_lexer": "ipython3",
   "version": "3.9.7"
  }
 },
 "nbformat": 4,
 "nbformat_minor": 5
}
